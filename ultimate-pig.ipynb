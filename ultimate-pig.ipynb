{
 "cells": [
  {
   "cell_type": "markdown",
   "metadata": {},
   "source": [
    "## Game - Ultimate Pig\n",
    "\n",
    "1. Want to compare score performance by dice roll strategy.\n",
    "2. There are 2 strategies: Low risk (2 rolls/hold) and High risk (7 rolls/hold)\n",
    "3. A simulation of each strategy will result in a set of scores.\n",
    "4. The distribution of scores will determine which strategy is more effective.  "
   ]
  },
  {
   "cell_type": "code",
   "execution_count": 54,
   "metadata": {
    "collapsed": true
   },
   "outputs": [],
   "source": [
    "import statistics\n",
    "import matplotlib.pyplot as plt\n",
    "import random\n",
    "import math"
   ]
  },
  {
   "cell_type": "code",
   "execution_count": 55,
   "metadata": {
    "collapsed": true
   },
   "outputs": [],
   "source": [
    "%matplotlib inline"
   ]
  },
  {
   "cell_type": "code",
   "execution_count": 56,
   "metadata": {
    "collapsed": true
   },
   "outputs": [],
   "source": [
    "def roll_die():\n",
    "    return random.randint(1,6)\n"
   ]
  },
  {
   "cell_type": "code",
   "execution_count": 57,
   "metadata": {
    "collapsed": false
   },
   "outputs": [],
   "source": [
    "class Player:\n",
    "    \n",
    "    def __init__(self):\n",
    "        self.points = 0\n",
    "        self.reset()\n",
    "    \n",
    "    def reset(self):\n",
    "        self.points = 0\n",
    "        self.rolls = 0\n",
    "    \n",
    "    def should_roll_again(self):\n",
    "        return False\n",
    "    \n",
    "    def play_turn(self):\n",
    "        self.reset()\n",
    "        \n",
    "        while True:\n",
    "            roll = roll_die()              \n",
    "            self.rolls += 1\n",
    "            if roll == 1:\n",
    "                break\n",
    "            else:\n",
    "                self.points += roll\n",
    "            if not self.should_roll_again():\n",
    "                break\n",
    "        \n",
    "        return self.points\n",
    "    "
   ]
  },
  {
   "cell_type": "code",
   "execution_count": null,
   "metadata": {
    "collapsed": true
   },
   "outputs": [],
   "source": []
  },
  {
   "cell_type": "code",
   "execution_count": 58,
   "metadata": {
    "collapsed": true
   },
   "outputs": [],
   "source": [
    "class PigSolitaireGame:\n",
    "    def __init__(self, player):\n",
    "        self.player = player\n",
    "    \n",
    "    def play_game(self):\n",
    "        total_points = 0\n",
    "        for _ in range(7):\n",
    "            total_points += self.player.play_turn()\n",
    "        \n",
    "        return total_points"
   ]
  },
  {
   "cell_type": "code",
   "execution_count": 59,
   "metadata": {
    "collapsed": false
   },
   "outputs": [
    {
     "data": {
      "text/plain": [
       "'\\nn = 2\\nclass GameState(PigSolitaireGame):\\n    def __init__(self, player):\\n        super().__init__()\\n        self.player = player\\n        \\n    def game_stats(self):\\n        series_total = []\\n        for _ in range(n):\\n            series_total.append(self.player.play_game())\\n        \\n        return series_total\\n    \\nprint(GameState(PigSolitaireGame, 2)) \\n'"
      ]
     },
     "execution_count": 59,
     "metadata": {},
     "output_type": "execute_result"
    }
   ],
   "source": [
    "'''\n",
    "n = 2\n",
    "class GameState(PigSolitaireGame):\n",
    "    def __init__(self, player):\n",
    "        super().__init__()\n",
    "        self.player = player\n",
    "        \n",
    "    def game_stats(self):\n",
    "        series_total = []\n",
    "        for _ in range(n):\n",
    "            series_total.append(self.player.play_game())\n",
    "        \n",
    "        return series_total\n",
    "    \n",
    "print(GameState(PigSolitaireGame, 2)) \n",
    "'''"
   ]
  },
  {
   "cell_type": "code",
   "execution_count": 60,
   "metadata": {
    "collapsed": true
   },
   "outputs": [],
   "source": [
    "class Lowriskplayer(Player):          # 2 roll max\n",
    "    def should_roll_again(self):\n",
    "        if self.rolls < 2:\n",
    "            return True\n",
    "        else:\n",
    "            return False"
   ]
  },
  {
   "cell_type": "code",
   "execution_count": 61,
   "metadata": {
    "collapsed": true
   },
   "outputs": [],
   "source": [
    "class Highriskplayer(Player):          # 7 roll max\n",
    "    def should_roll_again(self):\n",
    "        if self.rolls < 7:\n",
    "            return True\n",
    "        else:\n",
    "            return False"
   ]
  },
  {
   "cell_type": "code",
   "execution_count": null,
   "metadata": {
    "collapsed": true
   },
   "outputs": [],
   "source": []
  },
  {
   "cell_type": "code",
   "execution_count": 62,
   "metadata": {
    "collapsed": false
   },
   "outputs": [
    {
     "name": "stdout",
     "output_type": "stream",
     "text": [
      "High Risk Player: 38.\n",
      "Low Risk Player: 43.\n"
     ]
    }
   ],
   "source": [
    "game = PigSolitaireGame(Highriskplayer())\n",
    "game = PigSolitaireGame(Lowriskplayer())\n",
    "\n",
    "print(\"High Risk Player: {}.\".format(game.play_game()))\n",
    "print(\"Low Risk Player: {}.\".format(game.play_game()))"
   ]
  },
  {
   "cell_type": "code",
   "execution_count": null,
   "metadata": {
    "collapsed": true
   },
   "outputs": [],
   "source": []
  },
  {
   "cell_type": "code",
   "execution_count": null,
   "metadata": {
    "collapsed": true
   },
   "outputs": [],
   "source": []
  }
 ],
 "metadata": {
  "kernelspec": {
   "display_name": "Python 3",
   "language": "python",
   "name": "python3"
  },
  "language_info": {
   "codemirror_mode": {
    "name": "ipython",
    "version": 3
   },
   "file_extension": ".py",
   "mimetype": "text/x-python",
   "name": "python",
   "nbconvert_exporter": "python",
   "pygments_lexer": "ipython3",
   "version": "3.4.3"
  }
 },
 "nbformat": 4,
 "nbformat_minor": 0
}
