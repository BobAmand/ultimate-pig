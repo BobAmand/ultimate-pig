{
 "cells": [
  {
   "cell_type": "markdown",
   "metadata": {},
   "source": [
    "## Game - Simple Ultimate Pig  [primitive programming]\n",
    "\n",
    "- Want to compare score performance by dice roll strategy.\n",
    "- There are 2 strategies: Low risk (2 rolls/hold) and High risk (7 rolls/hold)\n",
    "- A simulation of each strategy will result in a set of scores.\n",
    "- The distribution of scores will determine which strategy is more effective.\n",
    "- Duplicate runs of primitive code was used to create data for analysis."
   ]
  },
  {
   "cell_type": "code",
   "execution_count": 172,
   "metadata": {
    "collapsed": true
   },
   "outputs": [],
   "source": [
    "import statistics as st\n",
    "import matplotlib.pyplot as plt\n",
    "import random\n",
    "import math"
   ]
  },
  {
   "cell_type": "code",
   "execution_count": 173,
   "metadata": {
    "collapsed": true
   },
   "outputs": [],
   "source": [
    "%matplotlib inline"
   ]
  },
  {
   "cell_type": "code",
   "execution_count": 174,
   "metadata": {
    "collapsed": false
   },
   "outputs": [],
   "source": [
    "def roll_die():\n",
    "    return random.randint(1,6)\n"
   ]
  },
  {
   "cell_type": "code",
   "execution_count": null,
   "metadata": {
    "collapsed": true
   },
   "outputs": [],
   "source": []
  },
  {
   "cell_type": "code",
   "execution_count": null,
   "metadata": {
    "collapsed": true
   },
   "outputs": [],
   "source": []
  },
  {
   "cell_type": "code",
   "execution_count": 175,
   "metadata": {
    "collapsed": false
   },
   "outputs": [],
   "source": [
    "Player = 'Fred'\n",
    "Risk = 7\n",
    "Cycles = 10\n",
    "\n",
    "def game_pig(Player, Risk, Cycles):\n",
    "    score_series = []\n",
    "    for i in range(Cycles):\n",
    "        \n",
    "        for _ in range(7):\n",
    "            roll_points = 0\n",
    "            rolls_per_turn = 0\n",
    "            total_points = 0\n",
    "            while True:\n",
    "                roll = roll_die()\n",
    "                rolls_per_turn += 1\n",
    "                if roll == 1:\n",
    "                    break\n",
    "                else:\n",
    "                    roll_points += roll\n",
    "                if rolls_per_turn > Risk:\n",
    "                    break\n",
    "            total_points += roll_points\n",
    "        score_series.append(total_points)\n",
    "            \n",
    "    return score_series\n",
    "\n"
   ]
  },
  {
   "cell_type": "code",
   "execution_count": 176,
   "metadata": {
    "collapsed": false
   },
   "outputs": [
    {
     "name": "stdout",
     "output_type": "stream",
     "text": [
      "[13, 17, 3, 36, 21, 5, 0, 35, 38, 2]\n"
     ]
    }
   ],
   "source": [
    "print(game_pig('Fred',7,10))"
   ]
  },
  {
   "cell_type": "code",
   "execution_count": 177,
   "metadata": {
    "collapsed": false
   },
   "outputs": [
    {
     "name": "stdout",
     "output_type": "stream",
     "text": [
      "[14, 11, 11, 10, 6, 12, 14, 9, 9, 0]\n"
     ]
    }
   ],
   "source": [
    "print(game_pig('Barney',2,10))"
   ]
  },
  {
   "cell_type": "markdown",
   "metadata": {},
   "source": [
    "A series of 10 scores using a high risk strategy by Fred at 7 rolls attempted per Hold vs. a low risk strategy by Barney at 2 rolls attempted per Hold.\n"
   ]
  },
  {
   "cell_type": "code",
   "execution_count": 198,
   "metadata": {
    "collapsed": false
   },
   "outputs": [
    {
     "data": {
      "text/plain": [
       "<function matplotlib.pyplot.show>"
      ]
     },
     "execution_count": 198,
     "metadata": {},
     "output_type": "execute_result"
    },
    {
     "data": {
      "image/png": "[encoded data removed]",
      "text/plain": [
       "<matplotlib.figure.Figure at 0x108bac908>"
      ]
     },
     "metadata": {},
     "output_type": "display_data"
    }
   ],
   "source": [
    "x_data = game_pig('Fred', 7, 10)\n",
    "y_data = game_pig('Barney',2, 10)\n",
    "\n",
    "plt.scatter(x_data, y_data)\n",
    "plt.title('Matched Pairs of High/Low Risk Strategies')\n",
    "plt.xlabel('High Risk Axis')\n",
    "plt.ylabel('Low Risk Axis')\n",
    "plt.show\n"
   ]
  },
  {
   "cell_type": "code",
   "execution_count": 179,
   "metadata": {
    "collapsed": true
   },
   "outputs": [],
   "source": [
    "fdata = game_pig('Fred', 7, 1000)\n",
    "bdata = game_pig('Barney', 2, 1000)"
   ]
  },
  {
   "cell_type": "code",
   "execution_count": 180,
   "metadata": {
    "collapsed": false
   },
   "outputs": [
    {
     "name": "stdout",
     "output_type": "stream",
     "text": [
      "[21, 30, 0, 36, 2, 29, 0, 18, 9, 27]\n"
     ]
    }
   ],
   "source": [
    "print(game_pig('Fred', 7, 10))"
   ]
  },
  {
   "cell_type": "code",
   "execution_count": 201,
   "metadata": {
    "collapsed": false
   },
   "outputs": [
    {
     "data": {
      "image/png": "[encoded data removed]",
      "text/plain": [
       "<matplotlib.figure.Figure at 0x112e987f0>"
      ]
     },
     "metadata": {},
     "output_type": "display_data"
    }
   ],
   "source": [
    "plt.hist(fdata, bins=(max(fdata)-min(fdata)))\n",
    "plt.title(\"High Risk Score Distribution \\nwith multiple series of <=7 rolls x 1000\")\n",
    "plt.xlabel(\"Sum: {} w mean: {} +/- {} stdev\".format(sum(fdata),statistics.mean(fdata),statistics.stdev(fdata)))\n",
    "plt.show()\n",
    "\n",
    "#print(statistics.mean(data))\n",
    "#print(statistics.stdev(data))"
   ]
  },
  {
   "cell_type": "code",
   "execution_count": 200,
   "metadata": {
    "collapsed": false
   },
   "outputs": [
    {
     "data": {
      "image/png": "[encoded data removed]",
      "text/plain": [
       "<matplotlib.figure.Figure at 0x1098bbdd8>"
      ]
     },
     "metadata": {},
     "output_type": "display_data"
    }
   ],
   "source": [
    "plt.hist(bdata, bins=(max(bdata)-min(bdata)))\n",
    "plt.title(\"Low Risk Score Distribution \\nwith multiple series of <=7 rolls x 1000\")\n",
    "plt.xlabel(\"Sum: {} w mean: {} +/- {} stdev\".format(sum(bdata),statistics.mean(bdata),statistics.stdev(bdata)))\n",
    "plt.show()\n",
    "\n",
    "#print(sum(bdata))\n",
    "#print(statistics.stdev(data))"
   ]
  },
  {
   "cell_type": "code",
   "execution_count": 183,
   "metadata": {
    "collapsed": false
   },
   "outputs": [],
   "source": [
    "\n",
    "def game_pig_mean(Player, Risk, Cycles):\n",
    "    mean_list = game_pig(Player, Risk, Cycles)\n",
    "    return sum(mean_list)/len(mean_list)\n",
    "\n",
    "\n",
    "        "
   ]
  },
  {
   "cell_type": "code",
   "execution_count": 184,
   "metadata": {
    "collapsed": false
   },
   "outputs": [
    {
     "data": {
      "text/plain": [
       "19.8"
      ]
     },
     "execution_count": 184,
     "metadata": {},
     "output_type": "execute_result"
    }
   ],
   "source": [
    "game_pig_mean('Fred', 7, 10)"
   ]
  },
  {
   "cell_type": "code",
   "execution_count": 185,
   "metadata": {
    "collapsed": false
   },
   "outputs": [
    {
     "data": {
      "text/plain": [
       "6.0"
      ]
     },
     "execution_count": 185,
     "metadata": {},
     "output_type": "execute_result"
    }
   ],
   "source": [
    "game_pig_mean('Barney', 2, 10)"
   ]
  },
  {
   "cell_type": "code",
   "execution_count": 186,
   "metadata": {
    "collapsed": true
   },
   "outputs": [],
   "source": [
    "def game_pig_stdev(Player, Risk, Cycles):\n",
    "    stdev_list = game_pig(Player,Risk,Cycles)\n",
    "    return st.stdev(stdev_list)\n"
   ]
  },
  {
   "cell_type": "code",
   "execution_count": 187,
   "metadata": {
    "collapsed": false
   },
   "outputs": [
    {
     "data": {
      "text/plain": [
       "9.456919865015953"
      ]
     },
     "execution_count": 187,
     "metadata": {},
     "output_type": "execute_result"
    }
   ],
   "source": [
    "game_pig_stdev('Fred', 7, 10)"
   ]
  },
  {
   "cell_type": "code",
   "execution_count": 188,
   "metadata": {
    "collapsed": false
   },
   "outputs": [
    {
     "data": {
      "text/plain": [
       "4.790035954399971"
      ]
     },
     "execution_count": 188,
     "metadata": {},
     "output_type": "execute_result"
    }
   ],
   "source": [
    "game_pig_stdev('Barney', 2, 10)"
   ]
  },
  {
   "cell_type": "code",
   "execution_count": 189,
   "metadata": {
    "collapsed": false
   },
   "outputs": [
    {
     "data": {
      "text/plain": [
       "14.7"
      ]
     },
     "execution_count": 189,
     "metadata": {},
     "output_type": "execute_result"
    }
   ],
   "source": [
    "game_pig_mean('Fred', 7, 100)\n"
   ]
  },
  {
   "cell_type": "code",
   "execution_count": 190,
   "metadata": {
    "collapsed": false
   },
   "outputs": [
    {
     "data": {
      "text/plain": [
       "8.43"
      ]
     },
     "execution_count": 190,
     "metadata": {},
     "output_type": "execute_result"
    }
   ],
   "source": [
    "game_pig_mean('Barney', 2, 100)\n"
   ]
  },
  {
   "cell_type": "code",
   "execution_count": 191,
   "metadata": {
    "collapsed": false
   },
   "outputs": [
    {
     "name": "stdout",
     "output_type": "stream",
     "text": [
      "High Risk Mean: 14.701 + StDev: 12.311824276565071\n",
      "Low Risk Mean: 8.155 + StDev: 5.005012502496887\n"
     ]
    }
   ],
   "source": [
    "print(\"High Risk Mean: {} + StDev: {}\".format(game_pig_mean('Fred', 7, 1000),game_pig_stdev('Fred', 7, 1000)))\n",
    "print(\"Low Risk Mean: {} + StDev: {}\".format(game_pig_mean('Barney', 2, 1000),game_pig_stdev('Barney', 2, 1000)))\n"
   ]
  },
  {
   "cell_type": "code",
   "execution_count": 219,
   "metadata": {
    "collapsed": false
   },
   "outputs": [
    {
     "data": {
      "text/plain": [
       "<function matplotlib.pyplot.show>"
      ]
     },
     "execution_count": 219,
     "metadata": {},
     "output_type": "execute_result"
    },
    {
     "data": {
      "image/png": "[encoded data removed]",
      "text/plain": [
       "<matplotlib.figure.Figure at 0x1098a4898>"
      ]
     },
     "metadata": {},
     "output_type": "display_data"
    }
   ],
   "source": [
    "\n",
    "plt.boxplot(fdata)\n",
    "plt.title('High Risk Plot')\n",
    "#plt.boxplot(bdata)\n",
    "#plt.title('Low Risk Plot')\n",
    "\n",
    "plt.show\n"
   ]
  },
  {
   "cell_type": "code",
   "execution_count": 220,
   "metadata": {
    "collapsed": false
   },
   "outputs": [
    {
     "data": {
      "text/plain": [
       "<function matplotlib.pyplot.show>"
      ]
     },
     "execution_count": 220,
     "metadata": {},
     "output_type": "execute_result"
    },
    {
     "data": {
      "image/png": "[encoded data removed]",
      "text/plain": [
       "<matplotlib.figure.Figure at 0x1097fe240>"
      ]
     },
     "metadata": {},
     "output_type": "display_data"
    }
   ],
   "source": [
    "\n",
    "#plt.boxplot(fdata)\n",
    "#plt.title('High Risk Plot')\n",
    "plt.boxplot(bdata)\n",
    "plt.title('Low Risk Plot')\n",
    "\n",
    "plt.show\n"
   ]
  },
  {
   "cell_type": "code",
   "execution_count": null,
   "metadata": {
    "collapsed": true
   },
   "outputs": [],
   "source": []
  }
 ],
 "metadata": {
  "kernelspec": {
   "display_name": "Python 3",
   "language": "python",
   "name": "python3"
  },
  "language_info": {
   "codemirror_mode": {
    "name": "ipython",
    "version": 3
   },
   "file_extension": ".py",
   "mimetype": "text/x-python",
   "name": "python",
   "nbconvert_exporter": "python",
   "pygments_lexer": "ipython3",
   "version": "3.4.3"
  }
 },
 "nbformat": 4,
 "nbformat_minor": 0
}
