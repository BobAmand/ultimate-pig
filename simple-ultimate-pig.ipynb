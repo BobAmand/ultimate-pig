{
 "cells": [
  {
   "cell_type": "markdown",
   "metadata": {},
   "source": [
    "## Game - Simple Ultimate Pig  [primitive programming]\n",
    "\n",
    "- Want to compare score performance by dice roll strategy.\n",
    "- There are 2 strategies: Low risk (2 rolls/hold) and High risk (7 rolls/hold)\n",
    "- A simulation of each strategy will result in a set of scores.\n",
    "- The distribution of scores will determine which strategy is more effective.\n",
    "- Duplicate runs of primitive code was used to create data for analysis."
   ]
  },
  {
   "cell_type": "code",
   "execution_count": 104,
   "metadata": {
    "collapsed": true
   },
   "outputs": [],
   "source": [
    "import statistics as st\n",
    "import matplotlib.pyplot as plt\n",
    "import random\n",
    "import math"
   ]
  },
  {
   "cell_type": "code",
   "execution_count": 105,
   "metadata": {
    "collapsed": true
   },
   "outputs": [],
   "source": [
    "%matplotlib inline"
   ]
  },
  {
   "cell_type": "code",
   "execution_count": 106,
   "metadata": {
    "collapsed": false
   },
   "outputs": [],
   "source": [
    "def roll_die():\n",
    "    return random.randint(1,6)\n"
   ]
  },
  {
   "cell_type": "code",
   "execution_count": null,
   "metadata": {
    "collapsed": true
   },
   "outputs": [],
   "source": []
  },
  {
   "cell_type": "code",
   "execution_count": 113,
   "metadata": {
    "collapsed": true
   },
   "outputs": [],
   "source": []
  },
  {
   "cell_type": "code",
   "execution_count": 123,
   "metadata": {
    "collapsed": false
   },
   "outputs": [],
   "source": [
    "Player = 'Fred'\n",
    "Risk = 7\n",
    "Cycles = 10\n",
    "\n",
    "def game_pig(Player, Risk, Cycles):\n",
    "    score_series = []\n",
    "    for i in range(Cycles):\n",
    "        \n",
    "        for _ in range(7):\n",
    "            roll_points = 0\n",
    "            rolls_per_turn = 0\n",
    "            total_points = 0\n",
    "            while True:\n",
    "                roll = roll_die()\n",
    "                rolls_per_turn += 1\n",
    "                if roll == 1:\n",
    "                    break\n",
    "                else:\n",
    "                    roll_points += roll\n",
    "                if rolls_per_turn > Risk:\n",
    "                    break\n",
    "            total_points += roll_points\n",
    "        score_series.append(total_points)\n",
    "            \n",
    "    return score_series\n",
    "\n"
   ]
  },
  {
   "cell_type": "code",
   "execution_count": 124,
   "metadata": {
    "collapsed": false
   },
   "outputs": [
    {
     "name": "stdout",
     "output_type": "stream",
     "text": [
      "[0, 24, 6, 33, 4, 0, 36, 14, 26, 3]\n"
     ]
    }
   ],
   "source": [
    "print(game_pig('Fred',7,10))"
   ]
  },
  {
   "cell_type": "code",
   "execution_count": 125,
   "metadata": {
    "collapsed": false
   },
   "outputs": [
    {
     "name": "stdout",
     "output_type": "stream",
     "text": [
      "[11, 4, 14, 8, 9, 6, 0, 9, 12, 13]\n"
     ]
    }
   ],
   "source": [
    "print(game_pig('Barney',2,10))"
   ]
  },
  {
   "cell_type": "markdown",
   "metadata": {},
   "source": [
    "A series of 10 scores using a high risk strategy by Fred at 7 rolls attempted per Hold vs. a low risk strategy by Barney at 2 rolls attempted per Hold.\n"
   ]
  },
  {
   "cell_type": "code",
   "execution_count": 126,
   "metadata": {
    "collapsed": false
   },
   "outputs": [
    {
     "data": {
      "text/plain": [
       "<function matplotlib.pyplot.show>"
      ]
     },
     "execution_count": 126,
     "metadata": {},
     "output_type": "execute_result"
    },
    {
     "data": {
      "image/png": "[encoded data removed]",
      "text/plain": [
       "<matplotlib.figure.Figure at 0x11057da58>"
      ]
     },
     "metadata": {},
     "output_type": "display_data"
    }
   ],
   "source": [
    "x_data = game_pig('Fred', 7, 10)\n",
    "y_data = game_pig('Barney',2, 10)\n",
    "\n",
    "plt.scatter(x_data, y_data)\n",
    "plt.show\n"
   ]
  },
  {
   "cell_type": "code",
   "execution_count": 128,
   "metadata": {
    "collapsed": false
   },
   "outputs": [],
   "source": [
    "\n",
    "def game_pig_mean(Player, Risk, Cycles):\n",
    "    mean_list = game_pig(Player, Risk, Cycles)\n",
    "    return sum(mean_list)/len(mean_list)\n",
    "\n",
    "\n",
    "        "
   ]
  },
  {
   "cell_type": "code",
   "execution_count": 129,
   "metadata": {
    "collapsed": false
   },
   "outputs": [
    {
     "data": {
      "text/plain": [
       "11.6"
      ]
     },
     "execution_count": 129,
     "metadata": {},
     "output_type": "execute_result"
    }
   ],
   "source": [
    "game_pig_mean('Fred', 7, 10)"
   ]
  },
  {
   "cell_type": "code",
   "execution_count": 130,
   "metadata": {
    "collapsed": false
   },
   "outputs": [
    {
     "data": {
      "text/plain": [
       "8.2"
      ]
     },
     "execution_count": 130,
     "metadata": {},
     "output_type": "execute_result"
    }
   ],
   "source": [
    "game_pig_mean('Barney', 2, 10)"
   ]
  },
  {
   "cell_type": "code",
   "execution_count": 133,
   "metadata": {
    "collapsed": true
   },
   "outputs": [],
   "source": [
    "def game_pig_stdev(Player, Risk, Cycles):\n",
    "    stdev_list = game_pig(Player,Risk,Cycles)\n",
    "    return st.stdev(stdev_list)\n"
   ]
  },
  {
   "cell_type": "code",
   "execution_count": 134,
   "metadata": {
    "collapsed": false
   },
   "outputs": [
    {
     "data": {
      "text/plain": [
       "10.893933072025813"
      ]
     },
     "execution_count": 134,
     "metadata": {},
     "output_type": "execute_result"
    }
   ],
   "source": [
    "game_pig_stdev('Fred', 7, 10)"
   ]
  },
  {
   "cell_type": "code",
   "execution_count": 135,
   "metadata": {
    "collapsed": false
   },
   "outputs": [
    {
     "data": {
      "text/plain": [
       "4.623610902506587"
      ]
     },
     "execution_count": 135,
     "metadata": {},
     "output_type": "execute_result"
    }
   ],
   "source": [
    "game_pig_stdev('Barney', 2, 10)"
   ]
  },
  {
   "cell_type": "code",
   "execution_count": 136,
   "metadata": {
    "collapsed": false
   },
   "outputs": [
    {
     "data": {
      "text/plain": [
       "16.55"
      ]
     },
     "execution_count": 136,
     "metadata": {},
     "output_type": "execute_result"
    }
   ],
   "source": [
    "game_pig_mean('Fred', 7, 100)\n"
   ]
  },
  {
   "cell_type": "code",
   "execution_count": 137,
   "metadata": {
    "collapsed": false
   },
   "outputs": [
    {
     "data": {
      "text/plain": [
       "7.58"
      ]
     },
     "execution_count": 137,
     "metadata": {},
     "output_type": "execute_result"
    }
   ],
   "source": [
    "game_pig_mean('Barney', 2, 100)\n"
   ]
  },
  {
   "cell_type": "code",
   "execution_count": 140,
   "metadata": {
    "collapsed": false
   },
   "outputs": [
    {
     "name": "stdout",
     "output_type": "stream",
     "text": [
      "High Risk Mean: 15.736 + StDev: 12.064659962884159\n",
      "Low Risk Mean: 8.226 + StDev: 5.063725932583666\n"
     ]
    }
   ],
   "source": [
    "print(\"High Risk Mean: {} + StDev: {}\".format(game_pig_mean('Fred', 7, 1000),game_pig_stdev('Fred', 7, 1000)))\n",
    "print(\"Low Risk Mean: {} + StDev: {}\".format(game_pig_mean('Barney', 2, 1000),game_pig_stdev('Barney', 2, 1000)))\n"
   ]
  },
  {
   "cell_type": "code",
   "execution_count": null,
   "metadata": {
    "collapsed": true
   },
   "outputs": [],
   "source": [
    "\n",
    "\n",
    "plt.boxplot()\n"
   ]
  }
 ],
 "metadata": {
  "kernelspec": {
   "display_name": "Python 3",
   "language": "python",
   "name": "python3"
  },
  "language_info": {
   "codemirror_mode": {
    "name": "ipython",
    "version": 3
   },
   "file_extension": ".py",
   "mimetype": "text/x-python",
   "name": "python",
   "nbconvert_exporter": "python",
   "pygments_lexer": "ipython3",
   "version": "3.4.3"
  }
 },
 "nbformat": 4,
 "nbformat_minor": 0
}
